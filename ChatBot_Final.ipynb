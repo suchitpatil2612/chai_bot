{
  "nbformat": 4,
  "nbformat_minor": 0,
  "metadata": {
    "colab": {
      "name": "ChatBot_Final.ipynb",
      "provenance": [],
      "collapsed_sections": []
    },
    "kernelspec": {
      "name": "python3",
      "display_name": "Python 3"
    },
    "language_info": {
      "name": "python"
    }
  },
  "cells": [
    {
      "cell_type": "markdown",
      "metadata": {
        "id": "3gM5gYwZ0VOk"
      },
      "source": [
        "### Importing libraries and downloading packages"
      ]
    },
    {
      "cell_type": "code",
      "metadata": {
        "id": "6-UI5GIuzQhr"
      },
      "source": [
        "import nltk\n",
        "import numpy as np "
      ],
      "execution_count": null,
      "outputs": []
    },
    {
      "cell_type": "code",
      "metadata": {
        "colab": {
          "base_uri": "https://localhost:8080/"
        },
        "id": "ipj9JNwM0cUX",
        "outputId": "216cce96-1f96-496a-86e0-9a8a46e7b039"
      },
      "source": [
        "# downloading model to tokenize message\n",
        "nltk.download('punkt')\n",
        "\n",
        "# downloading stopwords\n",
        "nltk.download('stopwords')\n",
        "\n",
        "# downloading wordnet, which contains all lemmas of english language\n",
        "nltk.download('wordnet')"
      ],
      "execution_count": null,
      "outputs": [
        {
          "output_type": "stream",
          "name": "stdout",
          "text": [
            "[nltk_data] Downloading package punkt to /root/nltk_data...\n",
            "[nltk_data]   Package punkt is already up-to-date!\n",
            "[nltk_data] Downloading package stopwords to /root/nltk_data...\n",
            "[nltk_data]   Package stopwords is already up-to-date!\n",
            "[nltk_data] Downloading package wordnet to /root/nltk_data...\n",
            "[nltk_data]   Package wordnet is already up-to-date!\n"
          ]
        },
        {
          "output_type": "execute_result",
          "data": {
            "text/plain": [
              "True"
            ]
          },
          "metadata": {},
          "execution_count": 20
        }
      ]
    },
    {
      "cell_type": "code",
      "metadata": {
        "id": "INYh2jQ70gtm"
      },
      "source": [
        "from nltk.tokenize import word_tokenize\n",
        "\n",
        "from nltk.corpus import stopwords\n",
        "stop_words = stopwords.words('english')\n",
        "\n",
        "from nltk.stem import WordNetLemmatizer"
      ],
      "execution_count": null,
      "outputs": []
    },
    {
      "cell_type": "markdown",
      "metadata": {
        "id": "mK7BoKWg0tB1"
      },
      "source": [
        "### Function to clean text"
      ]
    },
    {
      "cell_type": "code",
      "metadata": {
        "id": "rpegDxkq0oQy"
      },
      "source": [
        "def clean_corpus(corpus):\n",
        "  # lowering every word in text\n",
        "  corpus = [ doc.lower() for doc in corpus]\n",
        "  cleaned_corpus = []\n",
        "  \n",
        "  stop_words = stopwords.words('english')\n",
        "  wordnet_lemmatizer = WordNetLemmatizer()\n",
        "\n",
        "  # iterating over every text\n",
        "  for doc in corpus:\n",
        "    # tokenizing text\n",
        "    tokens = word_tokenize(doc)\n",
        "    cleaned_sentence = [] \n",
        "    for token in tokens: \n",
        "      # removing stopwords, and punctuation\n",
        "      if token not in stop_words and token.isalpha(): \n",
        "        # applying lemmatization\n",
        "        cleaned_sentence.append(wordnet_lemmatizer.lemmatize(token)) \n",
        "    cleaned_corpus.append(' '.join(cleaned_sentence))\n",
        "  return cleaned_corpus"
      ],
      "execution_count": null,
      "outputs": []
    },
    {
      "cell_type": "markdown",
      "metadata": {
        "id": "vO_KGRd51npH"
      },
      "source": [
        "### Loading and cleaning intents"
      ]
    },
    {
      "cell_type": "code",
      "metadata": {
        "id": "KU8JWzB50wjW"
      },
      "source": [
        "#"
      ],
      "execution_count": null,
      "outputs": []
    },
    {
      "cell_type": "code",
      "metadata": {
        "id": "IaSBzgZbBH2P"
      },
      "source": [
        "\n",
        "import json\n",
        "with open('/content/intents.json') as file:\n",
        "    intents = json.load(file)\n"
      ],
      "execution_count": null,
      "outputs": []
    },
    {
      "cell_type": "code",
      "metadata": {
        "id": "IPTl-7D71rSZ"
      },
      "source": [
        "import json\n",
        "with open('intents.json', 'r') as file:\n",
        "  intents = json.load(file)"
      ],
      "execution_count": null,
      "outputs": []
    },
    {
      "cell_type": "code",
      "metadata": {
        "id": "bvtVIQRM3JYl"
      },
      "source": [
        "corpus = []\n",
        "tags = []\n",
        "\n",
        "for intent in intents['intents']:\n",
        "    # taking all patterns in intents to train a neural network\n",
        "    for pattern in intent['patterns']:\n",
        "        corpus.append(pattern)\n",
        "        tags.append(intent['tag'])"
      ],
      "execution_count": null,
      "outputs": []
    },
    {
      "cell_type": "code",
      "metadata": {
        "colab": {
          "base_uri": "https://localhost:8080/"
        },
        "id": "GpBmHub_3KoE",
        "outputId": "9f978712-1408-4a15-dac8-6da6b933811f"
      },
      "source": [
        "cleaned_corpus = clean_corpus(corpus)\n",
        "cleaned_corpus"
      ],
      "execution_count": null,
      "outputs": [
        {
          "output_type": "execute_result",
          "data": {
            "text/plain": [
              "['hi',\n",
              " 'anyone',\n",
              " 'hey',\n",
              " 'hola',\n",
              " 'hello',\n",
              " 'good day',\n",
              " 'green tea',\n",
              " 'lemon tea',\n",
              " 'would like strong black tea',\n",
              " 'green tea',\n",
              " 'tea',\n",
              " 'would like strong tea',\n",
              " 'want order tea',\n",
              " 'want order black tea',\n",
              " 'much',\n",
              " 'would like one',\n",
              " 'much',\n",
              " 'coffiee',\n",
              " 'black coffiee',\n",
              " 'would like strong black coffiee',\n",
              " 'would like strong coffiee',\n",
              " 'want order coffiee',\n",
              " 'want order black coffiee',\n",
              " 'much',\n",
              " 'would like one',\n",
              " 'much',\n",
              " 'accept cash',\n",
              " 'accept card',\n",
              " '',\n",
              " 'accept upi',\n",
              " '',\n",
              " 'please check order status',\n",
              " 'able check order status',\n",
              " 'order',\n",
              " 'hey min food',\n",
              " 'bye',\n",
              " 'see later',\n",
              " 'goodbye',\n",
              " 'nice chatting bye',\n",
              " 'till next time',\n",
              " '',\n",
              " 'thanks',\n",
              " 'thank',\n",
              " 'helpful',\n",
              " 'awesome thanks',\n",
              " 'thanks helping',\n",
              " 'could help',\n",
              " 'help provide',\n",
              " 'helpful',\n",
              " 'support offered',\n",
              " 'please check order status',\n",
              " 'able check order status',\n",
              " 'help order status',\n",
              " 'order status',\n",
              " 'order',\n",
              " 'food',\n",
              " 'track order',\n",
              " 'track food',\n",
              " 'hi want cancel order',\n",
              " 'want cancel order',\n",
              " 'please cancel order',\n",
              " 'cancel order',\n",
              " 'want add delivery instruction',\n",
              " 'please add delivery instruction',\n",
              " 'include delivery instruction',\n",
              " 'tell joke',\n",
              " 'feeling bored',\n",
              " 'joke please',\n",
              " 'make laugh',\n",
              " 'want laugh']"
            ]
          },
          "metadata": {},
          "execution_count": 27
        }
      ]
    },
    {
      "cell_type": "markdown",
      "metadata": {
        "id": "OUOFQC-N4rA8"
      },
      "source": [
        "### Vectorizing intents"
      ]
    },
    {
      "cell_type": "code",
      "metadata": {
        "id": "JM7HKZwd4Hb4"
      },
      "source": [
        "from sklearn.feature_extraction.text import TfidfVectorizer\n",
        "\n",
        "vectorizer = TfidfVectorizer()\n",
        "X = vectorizer.fit_transform(cleaned_corpus)"
      ],
      "execution_count": null,
      "outputs": []
    },
    {
      "cell_type": "code",
      "metadata": {
        "id": "OLXsglFD4Knu"
      },
      "source": [
        "from sklearn.preprocessing import OneHotEncoder\n",
        "\n",
        "encoder = OneHotEncoder()\n",
        "y = encoder.fit_transform(np.array(tags).reshape(-1,1))"
      ],
      "execution_count": null,
      "outputs": []
    },
    {
      "cell_type": "markdown",
      "metadata": {
        "id": "V3Vktujf5Yth"
      },
      "source": [
        "### Training neural network"
      ]
    },
    {
      "cell_type": "code",
      "metadata": {
        "colab": {
          "base_uri": "https://localhost:8080/"
        },
        "id": "ERcKVtPC400j",
        "outputId": "af3bc610-f5ac-4d4c-b286-f82c535715d7"
      },
      "source": [
        "from tensorflow.keras import Sequential\n",
        "from tensorflow.keras.layers import Dense, Dropout\n",
        "\n",
        "model = Sequential([\n",
        "                    Dense(128, input_shape=(X.shape[1],), activation='relu'),\n",
        "                    Dropout(0.2),\n",
        "                    Dense(64, activation='relu'),\n",
        "                    Dropout(0.2),\n",
        "                    Dense(y.shape[1], activation='softmax')\n",
        "])\n",
        "\n",
        "model.compile(loss='categorical_crossentropy', optimizer='adam', metrics=['accuracy'])\n",
        "model.summary()"
      ],
      "execution_count": null,
      "outputs": [
        {
          "output_type": "stream",
          "name": "stdout",
          "text": [
            "Model: \"sequential_1\"\n",
            "_________________________________________________________________\n",
            "Layer (type)                 Output Shape              Param #   \n",
            "=================================================================\n",
            "dense_3 (Dense)              (None, 128)               7808      \n",
            "_________________________________________________________________\n",
            "dropout_2 (Dropout)          (None, 128)               0         \n",
            "_________________________________________________________________\n",
            "dense_4 (Dense)              (None, 64)                8256      \n",
            "_________________________________________________________________\n",
            "dropout_3 (Dropout)          (None, 64)                0         \n",
            "_________________________________________________________________\n",
            "dense_5 (Dense)              (None, 14)                910       \n",
            "=================================================================\n",
            "Total params: 16,974\n",
            "Trainable params: 16,974\n",
            "Non-trainable params: 0\n",
            "_________________________________________________________________\n"
          ]
        }
      ]
    },
    {
      "cell_type": "code",
      "metadata": {
        "colab": {
          "base_uri": "https://localhost:8080/"
        },
        "id": "chq_qYz85f8e",
        "outputId": "38c2a5a2-3a39-4d75-b86f-d440462e66b4"
      },
      "source": [
        "history = model.fit(X.toarray(), y.toarray(), epochs=20, batch_size=1)"
      ],
      "execution_count": null,
      "outputs": [
        {
          "output_type": "stream",
          "name": "stdout",
          "text": [
            "Epoch 1/20\n",
            "70/70 [==============================] - 1s 2ms/step - loss: 2.6378 - accuracy: 0.0571\n",
            "Epoch 2/20\n",
            "70/70 [==============================] - 0s 2ms/step - loss: 2.5505 - accuracy: 0.1714\n",
            "Epoch 3/20\n",
            "70/70 [==============================] - 0s 2ms/step - loss: 2.4289 - accuracy: 0.3857\n",
            "Epoch 4/20\n",
            "70/70 [==============================] - 0s 2ms/step - loss: 2.2667 - accuracy: 0.4571\n",
            "Epoch 5/20\n",
            "70/70 [==============================] - 0s 2ms/step - loss: 2.0241 - accuracy: 0.5429\n",
            "Epoch 6/20\n",
            "70/70 [==============================] - 0s 1ms/step - loss: 1.6660 - accuracy: 0.7000\n",
            "Epoch 7/20\n",
            "70/70 [==============================] - 0s 2ms/step - loss: 1.3492 - accuracy: 0.7857\n",
            "Epoch 8/20\n",
            "70/70 [==============================] - 0s 2ms/step - loss: 1.1179 - accuracy: 0.7857\n",
            "Epoch 9/20\n",
            "70/70 [==============================] - 0s 2ms/step - loss: 0.9151 - accuracy: 0.8000\n",
            "Epoch 10/20\n",
            "70/70 [==============================] - 0s 1ms/step - loss: 0.6876 - accuracy: 0.8429\n",
            "Epoch 11/20\n",
            "70/70 [==============================] - 0s 1ms/step - loss: 0.5672 - accuracy: 0.8429\n",
            "Epoch 12/20\n",
            "70/70 [==============================] - 0s 2ms/step - loss: 0.5470 - accuracy: 0.8286\n",
            "Epoch 13/20\n",
            "70/70 [==============================] - 0s 2ms/step - loss: 0.4674 - accuracy: 0.8429\n",
            "Epoch 14/20\n",
            "70/70 [==============================] - 0s 2ms/step - loss: 0.3873 - accuracy: 0.8143\n",
            "Epoch 15/20\n",
            "70/70 [==============================] - 0s 2ms/step - loss: 0.3761 - accuracy: 0.8857\n",
            "Epoch 16/20\n",
            "70/70 [==============================] - 0s 2ms/step - loss: 0.3542 - accuracy: 0.8571\n",
            "Epoch 17/20\n",
            "70/70 [==============================] - 0s 1ms/step - loss: 0.2976 - accuracy: 0.8857\n",
            "Epoch 18/20\n",
            "70/70 [==============================] - 0s 1ms/step - loss: 0.3267 - accuracy: 0.8571\n",
            "Epoch 19/20\n",
            "70/70 [==============================] - 0s 1ms/step - loss: 0.3478 - accuracy: 0.8571\n",
            "Epoch 20/20\n",
            "70/70 [==============================] - 0s 1ms/step - loss: 0.3181 - accuracy: 0.8714\n"
          ]
        }
      ]
    },
    {
      "cell_type": "markdown",
      "metadata": {
        "id": "hWd--4oL6hld"
      },
      "source": [
        "### Classifying messages to intent"
      ]
    },
    {
      "cell_type": "markdown",
      "metadata": {
        "id": "lay5Bygm6mfY"
      },
      "source": [
        "1) If the intent probability does not match with any intent, then send it to no answer.\n",
        "\n",
        "2) Get Intent\n",
        "\n",
        "3) Perform Action"
      ]
    },
    {
      "cell_type": "code",
      "metadata": {
        "colab": {
          "base_uri": "https://localhost:8080/"
        },
        "id": "-pYo58Yy6JNY",
        "outputId": "50145376-46a4-4872-8fab-a511288507d2"
      },
      "source": [
        "# if prediction for every tag is low, then we want to classify that message as noanswer\n",
        "\n",
        "INTENT_NOT_FOUND_THRESHOLD = 0.40\n",
        "\n",
        "def predict_intent_tag(message):\n",
        "  message = clean_corpus([message])\n",
        "  X_test = vectorizer.transform(message)\n",
        "  y = model.predict(X_test.toarray())\n",
        "  \n",
        "  # if probability of all intent is low, classify it as noanswer\n",
        "  if y.max() < INTENT_NOT_FOUND_THRESHOLD:\n",
        "    return 'noanswer'\n",
        "  \n",
        "  prediction = np.zeros_like(y[0])\n",
        "  prediction[y.argmax()] = 1\n",
        "  tag = encoder.inverse_transform([prediction])[0][0]\n",
        "  return tag\n",
        "\n",
        "print(predict_intent_tag('How you could help me?'))\n",
        "print(predict_intent_tag(' chat bot'))\n",
        "print(predict_intent_tag('Where\\'s my order'))"
      ],
      "execution_count": null,
      "outputs": [
        {
          "output_type": "stream",
          "name": "stdout",
          "text": [
            "options\n",
            "payment\n",
            "order-status-request\n"
          ]
        }
      ]
    },
    {
      "cell_type": "code",
      "metadata": {
        "id": "z6bSZuhoY6no"
      },
      "source": [
        "import random\n",
        "import time "
      ],
      "execution_count": null,
      "outputs": []
    },
    {
      "cell_type": "code",
      "metadata": {
        "id": "m83Pe9tjZX1C"
      },
      "source": [
        "def get_intent(tag):\n",
        "  # to return complete intent from intent tag\n",
        "  for intent in intents['intents']:\n",
        "    if intent['tag'] == tag:\n",
        "      return intent"
      ],
      "execution_count": null,
      "outputs": []
    },
    {
      "cell_type": "code",
      "metadata": {
        "id": "WsfqfCl6ZgVr"
      },
      "source": [
        "def perform_action(action_code, intent):\n",
        "  # funition to perform an action which is required by intent\n",
        "  \n",
        "  if action_code == 'CHECK_ORDER_STATUS':\n",
        "    print('\\n Checking database \\n')\n",
        "    time.sleep(2)\n",
        "    order_status = ['in kitchen', 'with delivery executive']\n",
        "    delivery_time = []\n",
        "    return {'intent-tag':intent['next-intent-tag'][0],\n",
        "            'order_status': random.choice(order_status),\n",
        "            'delivery_time': random.randint(10, 30)}\n",
        "  \n",
        "  elif action_code == 'ORDER_CANCEL_CONFIRMATION':\n",
        "    ch = input('BOT: Do you want to continue (Y/n) ?')\n",
        "    if ch == 'y' or ch == 'Y':\n",
        "      choice = 0\n",
        "    else:\n",
        "      choice = 1\n",
        "    return {'intent-tag':intent['next-intent-tag'][choice]}\n",
        "  \n",
        "  elif action_code == 'ADD_DELIVERY_INSTRUCTIONS':\n",
        "    instructions = input('Your Instructions: ')\n",
        "    return {'intent-tag':intent['next-intent-tag'][0]}"
      ],
      "execution_count": null,
      "outputs": []
    },
    {
      "cell_type": "markdown",
      "metadata": {
        "id": "1a6dMfpqbrYU"
      },
      "source": [
        "### Generating random responses from the Intents"
      ]
    },
    {
      "cell_type": "code",
      "metadata": {
        "id": "3tTWYnEMZtIY",
        "colab": {
          "base_uri": "https://localhost:8080/"
        },
        "outputId": "c33c2301-dcb3-4d2e-f4c6-410e6b9e6122"
      },
      "source": [
        "while True:\n",
        "  # get message from user\n",
        "  message = input('You: ')\n",
        "  # predict intent tag using trained neural network\n",
        "  tag = predict_intent_tag(message)\n",
        "  # get complete intent from intent tag\n",
        "  intent = get_intent(tag)\n",
        "  # generate random response from intent\n",
        "  response = random.choice(intent['responses'])\n",
        "  print('Bot: ', response)\n",
        "\n",
        "  # check if there's a need to perform some action\n",
        "  if 'action' in intent.keys():\n",
        "    action_code = intent['action']\n",
        "    # perform action\n",
        "    data = perform_action(action_code, intent)\n",
        "    # get follow up intent after performing action\n",
        "    followup_intent = get_intent(data['intent-tag'])\n",
        "    # generate random response from follow up intent\n",
        "    response = random.choice(followup_intent['responses'])\n",
        "\n",
        "    # print randomly selected response\n",
        "    if len(data.keys()) > 1:\n",
        "      print('Bot: ', response.format(**data))\n",
        "    else:\n",
        "      print('Bot: ', response)\n",
        "\n",
        "  # break loop if intent was goodbye\n",
        "  if tag == 'goodbye':\n",
        "    break "
      ],
      "execution_count": null,
      "outputs": [
        {
          "output_type": "stream",
          "name": "stdout",
          "text": [
            "You: hey\n",
            "Bot:  Good to see you again\n",
            "You: do you have tea?\n",
            "Bot:  yes sir/mam we have that !!!\n",
            "You: how much for that ?\n",
            "Bot:  5$ for half cup \n",
            "You: do you accept debit/credit card?\n",
            "Bot:  Yes we accept cash as well as credit/debit cards and we do have upi id as well !\n",
            "You: how could you help  me?\n",
            "Bot:  I can check your order status, and cancel your order.\n",
            "You: check my order status?\n",
            "Bot:  I am checking your status of your order, Please wait.\n",
            "\n",
            " Checking database \n",
            "\n",
            "Bot:  Your order is currently with delivery executive, it will be delivered in 21 minutes. Do you need any more help?\n",
            "You: please check my order status.\n",
            "Bot:  I am checking your status of your order, Please wait.\n",
            "\n",
            " Checking database \n",
            "\n",
            "Bot:  Your order is currently in kitchen, it will be delivered in 10 minutes. Do you need any more help?\n",
            "You: no\n",
            "Bot:  Yes we accept cash as well as credit/debit cards and we do have upi id as well !\n",
            "You: yes\n",
            "Bot:  Yes we accept cash as well as credit/debit cards and we do have upi id as well !\n",
            "You: yes\n",
            "Bot:  Yes we accept cash as well as credit/debit cards and we do have upi id as well !\n",
            "You: okay thanks\n",
            "Bot:  My pleasure\n",
            "You: goodbye\n",
            "Bot:  See you!\n"
          ]
        }
      ]
    },
    {
      "cell_type": "code",
      "metadata": {
        "id": "04oM4g8mGLLm"
      },
      "source": [
        ""
      ],
      "execution_count": null,
      "outputs": []
    }
  ]
}